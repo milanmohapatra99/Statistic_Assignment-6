{
 "cells": [
  {
   "cell_type": "markdown",
   "id": "46f6839d",
   "metadata": {},
   "source": [
    "# Q1: What is the difference between a t-test and a z-test? Provide an example scenario where you would use each type of test."
   ]
  },
  {
   "cell_type": "markdown",
   "id": "0fefe43c",
   "metadata": {},
   "source": [
    "t-test and z-test are used to test hypothesis.\n",
    "\n",
    "t-test: \n",
    "    A t-test is a statistical test that is used to compare the means of two groups. It is often used in hypothesis testing to determine whether a process or treatment actually has an effect on the population of interest, or whether two groups are different from one another.\n",
    "    It is a statistical method in which samples are chosen randomly, and there is no perfect normal distribution.Sample size is small.\n",
    "    \n",
    "z-test: \n",
    "    Z-test is the statistical hypothesis used to determine whether the two samples’ means calculated are different if the standard deviation is available and the sample is large.\n",
    "    \n",
    "Z-tests and T-tests are the two statistical methods that involve data analysis, which has applications in science, business, and many other disciplines. The T-test is a univariate hypothesis test based on T-statistics, wherein the mean, i.e., the average, is known, and population variance, i.e., the standard deviation, is approximated from the sample. On the other hand, Z-test is also a univariate test based on a standard normal distribution\n",
    ".\n",
    "\n",
    "\n",
    "e.g: A Teacher wants to compare the heights of male and female students,where female group is small(n=45) and male group is large(n = 6),the teacher used t-test for small(female) and z-test for large(male) group.\n",
    "    \n",
    "    \n",
    "    \n",
    "    "
   ]
  },
  {
   "cell_type": "markdown",
   "id": "532aa4f3",
   "metadata": {},
   "source": [
    "# Q2: Differentiate between one-tailed and two-tailed tests."
   ]
  },
  {
   "cell_type": "markdown",
   "id": "dd8b03f6",
   "metadata": {},
   "source": [
    "A one-tailed ztest allows for the possibility of rejection of the Null Hypothesis in only one direction, whereas a two-tailed ztest tests the possibility of rejection in both directions (left and right).\n",
    "\n",
    "The main difference between these two types of tests is that two-tailed tests can show evidence that the control and variation are different, whereas one-tailed tests can show evidence if variation is better than the control.\n",
    "\n",
    "ONE-TAILED TEST:-\n",
    "    \n",
    "A statistical hypothesis test in which alternative hypothesis has only one end, is known as one tailed test.Its hypothesis is  directional.\n",
    "its rejection is either left or right.If there is a relationship between variables in single direction.It is Greater or less than certain values.\n",
    "\n",
    "\n",
    "TWO-TAILED TEST:- \n",
    "    \n",
    "A significance test in which alternative hypothesis has two ends, is called two-tailed test.It is Non-directional Hypothesis.\n",
    "it can reject in both direction.If there is a relationship between variables in either direction. It is Greater or less than certain range of values.\n",
    "\n",
    "\n",
    "\n",
    "\n"
   ]
  },
  {
   "cell_type": "markdown",
   "id": "e1c31f68",
   "metadata": {},
   "source": [
    "# Q3: Explain the concept of Type 1 and Type 2 errors in hypothesis testing. Provide an example scenario for each type of error."
   ]
  },
  {
   "cell_type": "markdown",
   "id": "a1c46c01",
   "metadata": {},
   "source": [
    "Type I error is a false positive conclusion, while a Type II error is a false negative conclusion.\n",
    "\n",
    "\n",
    "Type I error:\n",
    "    \n",
    "A Type I error means rejecting the null hypothesis when it’s actually true. It means concluding that results are statistically significant when, in reality, they came about purely by chance or because of unrelated factors.\n",
    "\n",
    "The risk of committing this error is the significance level (alpha or α) you choose. That’s a value that you set at the beginning of your study to assess the statistical probability of obtaining your results (p value).\n",
    "\n",
    "The significance level is usually set at 0.05 or 5%. This means that your results only have a 5% chance of occurring, or less, if the null hypothesis is actually true.\n",
    "\n",
    "Type I error (false positive): the test result says you have coronavirus, but you actually don't. Type II error (false negative): the test result says you don't have coronavirus, but you actually do.\n",
    "    \n",
    "\n",
    "Type II error:\n",
    "    \n",
    "A Type II error means not rejecting the null hypothesis when it’s actually false. This is not quite the same as “accepting” the null hypothesis, because hypothesis testing can only tell you whether to reject the null hypothesis.\n",
    "\n",
    "Instead, a Type II error means failing to conclude there was an effect when there actually was. In reality, your study may not have had enough statistical power to detect an effect of a certain size.\n",
    "\n",
    "Power is the extent to which a test can correctly detect a real effect when there is one. A power level of 80% or higher is usually considered acceptable.\n",
    "\n",
    "The risk of a Type II error is inversely related to the statistical power of a study. The higher the statistical power, the lower the probability of making a Type II error.\n",
    "\n",
    "For example, a test for a disease may report a negative result when the patient is infected. This is a type II error because we accept the conclusion of the test as negative, even though it is incorrect."
   ]
  },
  {
   "cell_type": "markdown",
   "id": "98e79360",
   "metadata": {},
   "source": [
    "# Q4: Explain Bayes's theorem with an example."
   ]
  },
  {
   "cell_type": "markdown",
   "id": "fab9d18a",
   "metadata": {},
   "source": [
    "The Bayes theorem is a mathematical formula for calculating conditional probability in probability and statistics. In other words, it's used to figure out how likely an event is based on its proximity to another. Bayes law or Bayes rule are other names for the theorem.\n",
    "\n",
    "Formula: \n",
    "    \n",
    "The formula for the Bayes theorem can be written in a variety of ways. The following is the most common version:\n",
    "\n",
    "P(A ∣ B) = P(B ∣ A)P(A) / P(B)\n",
    "\n",
    "P(A ∣ B) is the conditional probability of event A occurring, given that B is true.\n",
    "\n",
    "P(B ∣ A) is the conditional probability of event B occurring, given that A is true.\n",
    "\n",
    "P(A) and P(B) are the probabilities of A and B occurring independently of one another.\n",
    "\n",
    "e.g: \n",
    "    \n",
    "hree urns contain 6 red, 4 black; 4 red, 6 black, and 5 red, 5 black balls respectively. One of the urns is selected at random and a ball is drawn from it. If the ball drawn is red, find the probability that it is drawn from the first urn.\n",
    "\n",
    "Solution: Let E1, E2, E3, and A be the events defined as follows:\n",
    "\n",
    "E1 = urn first is chosen \n",
    "\n",
    "E2 = urn second is chosen\n",
    "\n",
    "E3 = urn third is chosen \n",
    "\n",
    "A = ball drawn is red\n",
    "\n",
    "Since there are three urns and one of the three urns is chosen at random, therefore:\n",
    "\n",
    "P(E1) = P(E2) = P(E3) = ⅓\n",
    "\n",
    "If E1 has already occurred, then urn first has been chosen, containing 6 red and 4 black balls. The probability of drawing a red ball from it is 6/10.\n",
    "\n",
    "So, P(A/E1) = 6/10\n",
    "\n",
    "Similarly, you have P(A/E2) = 4/10 and P(A/E3) = 5/10\n",
    "\n",
    "You are required to find the P(E1/A) i.e., given that the ball drawn is red, what is the probability that it is drawn from the first urn.\n",
    "\n",
    "By Bayes theorem, you have\n",
    "\n",
    "P(E1/A) = P(E1) P(A/E1)P(E1) P(A/E1) + P(E2) P(A/E2) + P(E3) P(A/E3)          \n",
    "\n",
    "= 1/3 * 6/10(1/3 * 6/10) + (1/3 * 4/10) + (1/3 * 5/10)\n",
    "\n",
    "= ⅖"
   ]
  },
  {
   "cell_type": "markdown",
   "id": "8ce8fd66",
   "metadata": {},
   "source": [
    "# Q5: What is a confidence interval? How to calculate the confidence interval, explain with an example."
   ]
  },
  {
   "cell_type": "markdown",
   "id": "c84ebeaf",
   "metadata": {},
   "source": [
    "A confidence interval, in statistics, refers to the probability that a population parameter will fall between a set of values for a certain proportion of times.They are also used in hypothesis testing and regression analysis.Statisticians often use p-values in conjunction with confidence intervals to gauge statistical significance.They are most often constructed using confidence levels of 95% or 99%.\n",
    "\n",
    "\n",
    "Calculating Confidence Interval\n",
    "\n",
    "\n",
    "You survey 100 Brits and 100 Americans about their television-watching habits, and find that both groups watch an average of 35 hours of television per week.\n",
    "However, the British people surveyed had a wide variation in the number of hours watched, while the Americans all watched similar amounts.\n",
    "\n",
    "Even though both groups have the same point estimate (average number of hours watched), the British estimate will have a wider confidence interval than the American estimate because there is more variation in the data.\n"
   ]
  },
  {
   "cell_type": "markdown",
   "id": "8cca267f",
   "metadata": {},
   "source": [
    "# Q6. Use Bayes' Theorem to calculate the probability of an event occurring given prior knowledge of the event's probability and new evidence. Provide a sample problem and solution."
   ]
  },
  {
   "cell_type": "markdown",
   "id": "0acbc327",
   "metadata": {},
   "source": [
    "Bayes' Theorem is a formula used to calculate the probability of an event occurring based on prior knowledge and new evidence. It is expressed as:\n",
    "\n",
    "P(A|B) = P(B|A) * P(A) / P(B)\n",
    "\n",
    "where,\n",
    "P(A|B) = the probability of A given B\n",
    "\n",
    "P(B|A) = the probability of B given A\n",
    "\n",
    "P(A) = the prior probability of A\n",
    "\n",
    "P(B) = the probability of B.\n",
    "\n",
    "For example, let's say that a certain disease affects 1 in 1000 people, and a new test has been developed that correctly identifies the disease in 99% of cases. If a person tests positive for the disease, what is the probability that they actually have the disease?\n",
    "\n",
    "Solution: P(Disease) = 0.001 (prior probability) P(Positive Test | Disease) = 0.99 (probability of testing positive given the person has the disease) P(Positive Test | No Disease) = 0.01 (probability of testing positive given the person does not have the disease) P(No Disease) = 0.999 (1 - prior probability)\n",
    "\n",
    "Using Bayes' Theorem:\n",
    "\n",
    "P(Disease | Positive Test) = P(Positive Test | Disease) x P(Disease) / P(Positive Test) P(Disease | Positive Test)\n",
    "\n",
    "= 0.99 x 0.001 / ((0.99 x 0.001) + (0.01 x 0.999)) P(Disease | Positive Test) = 0.09 or 9%\n",
    "\n",
    "So, even with a highly accurate test, the probability of a positive result indicating the presence of the disease is still relatively low."
   ]
  },
  {
   "cell_type": "markdown",
   "id": "25707c82",
   "metadata": {},
   "source": [
    "# Q7. Calculate the 95% confidence interval for a sample of data with a mean of 50 and a standard deviation of 5. Interpret the results."
   ]
  },
  {
   "cell_type": "markdown",
   "id": "8aa65bb1",
   "metadata": {},
   "source": [
    "The formula to calculate a 95% confidence interval is:\n",
    "\n",
    "CI = x̄ ± z(α/2) * (σ / √n)\n",
    "\n",
    "where x̄ is the sample mean, z(α/2) is the z-score associated with a 95% confidence level (1.96), σ is the population standard deviation, and n is the sample size.\n",
    "\n",
    "Plugging in the values from the problem:\n",
    "\n",
    "CI = 50 ± 1.96 * (5 / √n)\n",
    "\n",
    "To calculate the interval, we need to know the sample size. Let's assume it's n = 100:\n",
    "\n",
    "CI = 50 ± 1.96 * (5 / √100) CI = 50 ± 0.98 CI = (49.02, 50.98)\n",
    "\n",
    "Interpretation: With a 95% level of confidence, the true population mean is likely to fall between 49.02 and 50.98."
   ]
  },
  {
   "cell_type": "markdown",
   "id": "82e5a67f",
   "metadata": {},
   "source": [
    "# Q8. What is the margin of error in a confidence interval? How does sample size affect the margin of error? Provide an example of a scenario where a larger sample size would result in a smaller margin of error."
   ]
  },
  {
   "cell_type": "markdown",
   "id": "34f31d95",
   "metadata": {},
   "source": [
    "A margin of error tells you how many percentage points your results will differ from the real population value.Sample size affects the margin of error inversely; as the sample size increases, the margin of error decreases. For example, a 95% confidence interval with a 4 percent margin of error means that your statistic will be within 4 percentage points of the real population value 95% of the time.\n",
    "\n",
    " example, a poll might report that a certain candidate is going to win an election with 51 percent of the vote. Plus, the confidence level is 95 percent and the error is 4 percent. If we assume that the poll was repeated using the same techniques, then the pollsters would expect the results to be within 4 percent of the stated result (51 percent) 95 percent of the time. In other words, 95 percent of the time they would expect the results to be between:\n",
    "\n",
    "51 – 4 = 47 percent and\n",
    "51 + 4 = 55 percent."
   ]
  },
  {
   "cell_type": "markdown",
   "id": "93c6167d",
   "metadata": {},
   "source": [
    "# Q9. Calculate the z-score for a data point with a value of 75, a population mean of 70, and a population standard deviation of 5. Interpret the results."
   ]
  },
  {
   "cell_type": "markdown",
   "id": "901190ae",
   "metadata": {},
   "source": [
    "The z-score is calculated as (75-70)/5 = 1. \n",
    "\n",
    "The z-score of 1 indicates that the data point is one standard deviation above the population mean. This means that the data point is relatively far from the mean and is considered unusual."
   ]
  },
  {
   "cell_type": "markdown",
   "id": "d4a4410e",
   "metadata": {},
   "source": [
    "# Q10. In a study of the effectiveness of a new weight loss drug, a sample of 50 participants lost an average of 6 pounds with a standard deviation of 2.5 pounds. Conduct a hypothesis test to determine if the drug is significantly effective at a 95% confidence level using a t-test."
   ]
  },
  {
   "cell_type": "markdown",
   "id": "dd9c3c6d",
   "metadata": {},
   "source": [
    "The null hypothesis is that the mean weight loss for the population is equal to 0. The alternative hypothesis is that the mean weight loss for the population is greater than 0. With a sample size of 50 and a sample mean of 6 pounds.\n",
    "\n",
    "then the t-value is calculated as (6-0)/(2.5/sqrt(50)) = 12.\n",
    "\n",
    "The critical t-value at a 95% confidence level with 49 degrees of freedom is 1.677. \n",
    "\n",
    "Since the calculated t-value is greater than the critical t-value, we reject the null hypothesis and conclude that the drug is significantly effective at a 95% confidence level."
   ]
  },
  {
   "cell_type": "markdown",
   "id": "1aa69a01",
   "metadata": {},
   "source": [
    "# Q11. In a survey of 500 people, 65% reported being satisfied with their current job. Calculate the 95% confidence interval for the true proportion of people who are satisfied with their job."
   ]
  },
  {
   "cell_type": "markdown",
   "id": "a9738772",
   "metadata": {},
   "source": [
    "The standard error of the proportion is calculated as sqrt((0.65(1-0.65))/500) = 0.025. \n",
    "\n",
    "The 95% confidence interval is calculated as 0.65 ± 1.960.025, which results in the interval of (0.601, 0.699). Therefore, we can say with 95% confidence that the true proportion of people who are satisfied with their job is between 60.1% and 69.9%.\n"
   ]
  },
  {
   "cell_type": "markdown",
   "id": "b9c926bf",
   "metadata": {},
   "source": [
    "# Q12. A researcher is testing the effectiveness of two different teaching methods on student performance. Sample A has a mean score of 85 with a standard deviation of 6, while sample B has a mean score of 82 with a standard deviation of 5. Conduct a hypothesis test to determine if the two teaching methods have a significant difference in student performance using a t-test with a significance level of 0.01."
   ]
  },
  {
   "cell_type": "markdown",
   "id": "6b49faec",
   "metadata": {},
   "source": [
    "To conduct a hypothesis test to determine if the two teaching methods have a significant difference in student performance using a t-test with a significance level of 0.01, we can use the following formula:\n",
    "\n",
    "t = (x̄1 - x̄2) / √(s1^2/n1 + s2^2/n2)\n",
    "\n",
    "where x̄1 = 85, s1 = 6, n1 = ?, x̄2 = 82, s2 = 5, n2 = ?, and α = 0.01.\n",
    "\n",
    "The degrees of freedom (dof):\n",
    "\n",
    "dof = (s1^2/n1 + s22/n2)2 / [(s12/n1)2/(n1-1) + (s22/n2)2/(n2-1)]\n",
    "\n",
    "Once we have calculated t and dof, we can use a t-distribution table to find the critical value of t for α = 0.01 and dof.\n",
    "\n",
    "If our calculated t-value is greater than the critical value of t, we reject the null hypothesis that there is no significant difference between the two teaching methods."
   ]
  },
  {
   "cell_type": "markdown",
   "id": "25e7133c",
   "metadata": {},
   "source": [
    "# Q13. A population has a mean of 60 and a standard deviation of 8. A sample of 50 observations has a mean of 65. Calculate the 90% confidence interval for the true population mean."
   ]
  },
  {
   "cell_type": "code",
   "execution_count": null,
   "id": "6b5e6f54",
   "metadata": {},
   "outputs": [],
   "source": [
    "By Using following formula we can calculate 90% of CI  or the true population mean: \n",
    "\n",
    "    CI = X̄ ± Zα/2 * (σ/√n)\n",
    "\n",
    "where X̄ = 65, σ = 8, n = 50, and α = 0.10 (since we want a 90% confidence interval).\n",
    "\n",
    "Using a standard normal distribution table, we can find Zα/2 for α = 0.10.\n",
    "\n",
    "Once we have calculated CI, we can say with 90% confidence that the true population mean falls within this interval."
   ]
  },
  {
   "cell_type": "markdown",
   "id": "05c1555c",
   "metadata": {},
   "source": [
    "# Q14. In a study of the effects of caffeine on reaction time, a sample of 30 participants had an average reaction time of 0.25 seconds with a standard deviation of 0.05 seconds. Conduct a hypothesis test to determine if the caffeine has a significant effect on reaction time at a 90% confidence level using a t-test."
   ]
  },
  {
   "cell_type": "markdown",
   "id": "ca6fbfbb",
   "metadata": {},
   "source": [
    "To conduct a hypothesis test to determine if caffeine has a significant effect on reaction time at a 90% confidence level using a t-test, we can use the following formula:\n",
    "\n",
    "t = (x̄ - μ) / (s/√n)\n",
    "\n",
    "where x̄ = 0.25 seconds, μ = ?, s = 0.05 seconds, n = 30, and α = 0.10 (since we want a 90% confidence level).\n",
    "\n",
    "To find the degrees of freedom (dof), we use the following formula:\n",
    "\n",
    "dof = n - 1\n",
    "\n",
    "Once we have calculated t and df, we can use a t-distribution table to find the critical value of t for α = 0.10 and dof.\n",
    "\n",
    "If our calculated t-value is greater than the critical value of t, we reject the null hypothesis that caffeine has no significant effect on reaction time at a 90% confidence level.\n",
    "\n"
   ]
  }
 ],
 "metadata": {
  "kernelspec": {
   "display_name": "Python 3 (ipykernel)",
   "language": "python",
   "name": "python3"
  },
  "language_info": {
   "codemirror_mode": {
    "name": "ipython",
    "version": 3
   },
   "file_extension": ".py",
   "mimetype": "text/x-python",
   "name": "python",
   "nbconvert_exporter": "python",
   "pygments_lexer": "ipython3",
   "version": "3.10.9"
  }
 },
 "nbformat": 4,
 "nbformat_minor": 5
}
